{
 "cells": [
  {
   "cell_type": "code",
   "source": [
    "%%sql --database testdb --container runsummary --output runlogs\n",
    "\n",
    "select \n",
    "\tc.WorkloadType, \n",
    "\tc.CommitDate, \n",
    "\tc.Top10PercentAverageRps, \n",
    "\tc.Top20PercentAverageRps, \n",
    "\tc.Top30PercentAverageRps, \n",
    "\tc.Top40PercentAverageRps, \n",
    "\tc.Top50PercentAverageRps, \n",
    "\tc.AverageRps \n",
    "from c \n",
    "where c.Cores = 4"
   ]
  },
  {
   "cell_type": "code",
   "source": [
    "import matplotlib.pyplot as plt\n",
    "\n",
    "wts = ['InsertV3', 'ReadStreamExistsV3', 'ReadTExistsV3', 'ReadNotExistsV3', 'ReadFeedStreamV3']\n",
    "for wt in wts:\n",
    "    fig, ax = plt.subplots(figsize=(20,10))\n",
    "    plt.title(wt + \" max()\", fontsize=30)\n",
    "    runlogs[runlogs.WorkloadType == wt].groupby(\"CommitDate\").max().plot(ax=ax)\n"
   ]
  },	   
  {
   "cell_type": "code",
   "source": [
    "import matplotlib.pyplot as plt\n",
    "\n",
    "wts = ['InsertV3', 'ReadStreamExistsV3', 'ReadTExistsV3', 'ReadNotExistsV3', 'ReadFeedStreamV3']\n",
    "for wt in wts:\n",
    "    fig, ax = plt.subplots(figsize=(20,10))\n",
    "    plt.title(wt + \" mean()\", fontsize=30)\n",
    "    runlogs[runlogs.WorkloadType == wt].groupby(\"CommitDate\").mean().plot(ax=ax)\n"
   ]
  }
 ]
} 